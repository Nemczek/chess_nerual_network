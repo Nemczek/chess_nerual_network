{
 "cells": [
  {
   "cell_type": "markdown",
   "id": "71757f04-97d8-4ec1-a452-931c6c5c10e3",
   "metadata": {},
   "source": [
    "# Testing"
   ]
  },
  {
   "cell_type": "markdown",
   "id": "c30a1a37-87a4-4cf1-af5a-28490ab02ecd",
   "metadata": {},
   "source": [
    "Code below downloads game from lichess and saves it to .PGN file"
   ]
  },
  {
   "cell_type": "code",
   "execution_count": null,
   "id": "8fbcdbf0-536e-47c2-a6dc-4951360bb599",
   "metadata": {},
   "outputs": [],
   "source": [
    "import berserk\n",
    "from datetime import datetime\n",
    "import numpy as np\n",
    "from IPython.display import clear_output"
   ]
  },
  {
   "cell_type": "code",
   "execution_count": null,
   "id": "2bbde717-9236-4a10-9ca2-80481535471f",
   "metadata": {},
   "outputs": [],
   "source": [
    "with open('lichess_token.txt') as file:\n",
    "    TOKEN = file.read().strip()\n",
    "    file.close()"
   ]
  },
  {
   "cell_type": "code",
   "execution_count": null,
   "id": "7d763f66-5e5e-4294-b738-f7c127a3e9ce",
   "metadata": {},
   "outputs": [],
   "source": [
    "session = berserk.TokenSession(TOKEN)\n",
    "client = berserk.Client(session)"
   ]
  },
  {
   "cell_type": "code",
   "execution_count": null,
   "id": "6b21b2e2-645e-4632-bb72-01784f86a15b",
   "metadata": {
    "scrolled": true
   },
   "outputs": [],
   "source": [
    "client.account.get()"
   ]
  },
  {
   "cell_type": "code",
   "execution_count": null,
   "id": "7e90ee72-8fa3-4a72-8a69-0c61cb4582d1",
   "metadata": {},
   "outputs": [],
   "source": [
    "start = berserk.utils.to_millis(datetime(2024, 4, 18))\n",
    "end = berserk.utils.to_millis(datetime(2024, 4, 21))"
   ]
  },
  {
   "cell_type": "code",
   "execution_count": null,
   "id": "3c1e434a-e685-43d1-be09-928c57e53473",
   "metadata": {},
   "outputs": [],
   "source": [
    "games_gen = client.games.export_by_player('muisback', since=start, until=end, max=10, as_pgn=True)"
   ]
  },
  {
   "cell_type": "code",
   "execution_count": null,
   "id": "968957d9-6865-4ad6-9f9c-357f85aa6b55",
   "metadata": {},
   "outputs": [],
   "source": [
    "games = list(games_gen)"
   ]
  },
  {
   "cell_type": "code",
   "execution_count": null,
   "id": "f069ffff-6cf0-4393-b17d-b4441dc285a9",
   "metadata": {},
   "outputs": [],
   "source": [
    "len(games)"
   ]
  },
  {
   "cell_type": "code",
   "execution_count": null,
   "id": "0524bf95-2756-4d81-8b1e-b12391f977b0",
   "metadata": {},
   "outputs": [],
   "source": [
    "games[0]"
   ]
  },
  {
   "cell_type": "code",
   "execution_count": null,
   "id": "48e032c4-81b4-4d1c-9d50-46f29c62aeaf",
   "metadata": {},
   "outputs": [],
   "source": [
    "with open('test_game.pgn', 'w') as pgn_file:\n",
    "    pgn_file.write(games[0])\n",
    "    pgn_file.close()"
   ]
  },
  {
   "cell_type": "markdown",
   "id": "14460559-552d-4f2f-a3f6-f7ff1b681f22",
   "metadata": {},
   "source": [
    "*******"
   ]
  },
  {
   "cell_type": "code",
   "execution_count": null,
   "id": "0b15b423-9d2f-4158-a8ab-4be80f7c1c9e",
   "metadata": {},
   "outputs": [],
   "source": [
    "import chess\n",
    "import chess.pgn"
   ]
  },
  {
   "cell_type": "code",
   "execution_count": null,
   "id": "649c31f5-a48e-4f5e-95f3-9cdf09263d2c",
   "metadata": {},
   "outputs": [],
   "source": [
    "pgn = open('test_game.pgn')\n",
    "game = chess.pgn.read_game(pgn)"
   ]
  },
  {
   "cell_type": "code",
   "execution_count": null,
   "id": "27ebb19d-94b8-44aa-9c53-175e2176620e",
   "metadata": {},
   "outputs": [],
   "source": [
    "game.board()"
   ]
  },
  {
   "cell_type": "code",
   "execution_count": null,
   "id": "a4fd7413-82e0-4b93-b5e5-922444fc160b",
   "metadata": {},
   "outputs": [],
   "source": [
    "board = game.board()"
   ]
  },
  {
   "cell_type": "code",
   "execution_count": null,
   "id": "1ebc1ae2-4e42-4d23-bdaf-a34b2f6c5bb6",
   "metadata": {
    "scrolled": true
   },
   "outputs": [],
   "source": [
    "piece_map = board.piece_map()\n",
    "piece_map"
   ]
  },
  {
   "cell_type": "code",
   "execution_count": null,
   "id": "4057811b-1aef-4e67-a23b-7e146da1c140",
   "metadata": {},
   "outputs": [],
   "source": [
    "board_array = np.zeros((8, 8))\n",
    "for pos, piece in piece_map.items():\n",
    "    row = pos // 8\n",
    "    col = pos % 8\n",
    "    val = piece.piece_type\n",
    "\n",
    "    if piece.color == chess.BLACK:\n",
    "        val = -val\n",
    "\n",
    "    board_array[row, col] = val\n",
    "board_array"
   ]
  }
 ],
 "metadata": {
  "kernelspec": {
   "display_name": "Python 3 (ipykernel)",
   "language": "python",
   "name": "python3"
  },
  "language_info": {
   "codemirror_mode": {
    "name": "ipython",
    "version": 3
   },
   "file_extension": ".py",
   "mimetype": "text/x-python",
   "name": "python",
   "nbconvert_exporter": "python",
   "pygments_lexer": "ipython3",
   "version": "3.12.0"
  }
 },
 "nbformat": 4,
 "nbformat_minor": 5
}
